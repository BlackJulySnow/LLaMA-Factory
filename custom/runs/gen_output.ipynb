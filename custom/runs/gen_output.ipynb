{
 "cells": [
  {
   "cell_type": "code",
   "execution_count": 1,
   "metadata": {},
   "outputs": [
    {
     "data": {
      "application/vnd.jupyter.widget-view+json": {
       "model_id": "31efb0b632374851a1e9164d5eb6064e",
       "version_major": 2,
       "version_minor": 0
      },
      "text/plain": [
       "Loading checkpoint shards:   0%|          | 0/5 [00:00<?, ?it/s]"
      ]
     },
     "metadata": {},
     "output_type": "display_data"
    },
    {
     "name": "stderr",
     "output_type": "stream",
     "text": [
      "Special tokens have been added in the vocabulary, make sure the associated word embeddings are fine-tuned or trained.\n"
     ]
    }
   ],
   "source": [
    "import transformers\n",
    "import torch\n",
    "import json\n",
    "from transformers import AutoTokenizer, AutoModelForCausalLM\n",
    "\n",
    "model_id = \"C:\\\\Users\\\\B1GGersnow\\\\Desktop\\\\smilesv1\"\n",
    "pipeline = transformers.pipeline(\n",
    "    \"text-generation\",\n",
    "    model=model_id,\n",
    "    model_kwargs={\"torch_dtype\": torch.bfloat16},\n",
    "    device_map=\"auto\",\n",
    ")"
   ]
  },
  {
   "cell_type": "code",
   "execution_count": 2,
   "metadata": {},
   "outputs": [],
   "source": [
    "# 加载自定义数据集\n",
    "with open('..\\dataset\\smiles_test.json', 'r') as file:\n",
    "    dataset = json.load(file)\n",
    "dataset = dataset[:1000]"
   ]
  },
  {
   "cell_type": "code",
   "execution_count": 7,
   "metadata": {},
   "outputs": [],
   "source": [
    "def calc_sim(output, original):\n",
    "    from rdkit import Chem\n",
    "    from collections import Counter\n",
    "    \n",
    "    for i in output:\n",
    "        try:\n",
    "            mol = Chem.MolFromSmiles(i)\n",
    "            atom_symbols = [atom.GetSymbol() for atom in mol.GetAtoms()]\n",
    "            atom_count = Counter(atom_symbols)\n",
    "            print(atom_count)\n",
    "        except:\n",
    "            print(\"error\")\n",
    "            pass"
   ]
  },
  {
   "cell_type": "code",
   "execution_count": 5,
   "metadata": {},
   "outputs": [
    {
     "name": "stderr",
     "output_type": "stream",
     "text": [
      "Processing items: 100%|██████████| 1000/1000 [1:43:56<00:00,  6.24s/it]\n"
     ]
    }
   ],
   "source": [
    "def generate_text(head, instruction, user_input, max_new_tokens=128, do_sample=True, temperature=1.5, top_p=0.4, num_return_sequences=3):\n",
    "    messages = [\n",
    "        {\"role\": \"system\", \"content\": instruction},\n",
    "        {\"role\": \"user\", \"content\": user_input},\n",
    "    ]\n",
    "    prompt = pipeline.tokenizer.apply_chat_template(\n",
    "        messages,\n",
    "        tokenize=False,\n",
    "        add_generation_prompt=True\n",
    "    )\n",
    "    outputs = pipeline(\n",
    "        prompt,\n",
    "        max_new_tokens=max_new_tokens,\n",
    "        do_sample=do_sample,\n",
    "        temperature=temperature,\n",
    "        top_p=top_p,\n",
    "        num_return_sequences=num_return_sequences\n",
    "    )\n",
    "    return [output['generated_text'][len(prompt) + len(head):] for output in outputs]\n",
    "head = \"If you have these small molecules, you can synthesize \"\n",
    "num_return_sequences = 1\n",
    "res1 = []\n",
    "from tqdm import tqdm\n",
    "for item in tqdm(dataset, desc=\"Processing items\"):\n",
    "    instruction = item['instruction']\n",
    "    user_input = item['input']\n",
    "    expected_output = item['output']\n",
    "    generated_texts = generate_text(head, instruction, user_input, num_return_sequences=num_return_sequences, temperature=0.6, top_p=0.9)\n",
    "    res1.append(generated_texts)\n",
    "with open('result_brics.json', 'w') as result_file:\n",
    "    json.dump(res1, result_file, indent=4)\n",
    "    # for i, generated_text in enumerate(generated_texts, 1):\n",
    "    #     print(f\"Generated {i}: {generated_text}\")\n",
    "    # print(f\"Expected: {expected_output}\\n\")"
   ]
  }
 ],
 "metadata": {
  "kernelspec": {
   "display_name": "llama",
   "language": "python",
   "name": "python3"
  },
  "language_info": {
   "codemirror_mode": {
    "name": "ipython",
    "version": 3
   },
   "file_extension": ".py",
   "mimetype": "text/x-python",
   "name": "python",
   "nbconvert_exporter": "python",
   "pygments_lexer": "ipython3",
   "version": "3.11.9"
  }
 },
 "nbformat": 4,
 "nbformat_minor": 2
}
